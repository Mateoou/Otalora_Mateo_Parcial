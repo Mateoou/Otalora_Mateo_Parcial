{
  "nbformat": 4,
  "nbformat_minor": 0,
  "metadata": {
    "colab": {
      "provenance": []
    },
    "kernelspec": {
      "name": "python3",
      "display_name": "Python 3"
    },
    "language_info": {
      "name": "python"
    }
  },
  "cells": [
    {
      "cell_type": "markdown",
      "source": [],
      "metadata": {
        "id": "d5xBXxTp47eO"
      }
    },
    {
      "cell_type": "code",
      "execution_count": 13,
      "metadata": {
        "colab": {
          "base_uri": "https://localhost:8080/",
          "height": 87
        },
        "id": "-XCNcesY2FdX",
        "outputId": "0b6e6e1a-802c-44bf-fd5b-12483dd41ce3"
      },
      "outputs": [
        {
          "output_type": "stream",
          "name": "stdout",
          "text": [
            "Ingrese la velocidad de la escoba en m/s: 5\n",
            "Ingrese el límite de velocidad en km/h: 20\n",
            "la velocidad de la escoba en km/h es 18.0\n"
          ]
        },
        {
          "output_type": "execute_result",
          "data": {
            "text/plain": [
              "'La escoba está dentro del límite de velocidad.  Quedan 2.00 km/h de margen.'"
            ],
            "application/vnd.google.colaboratory.intrinsic+json": {
              "type": "string"
            }
          },
          "metadata": {},
          "execution_count": 13
        }
      ],
      "source": [
        "def comparar_velocidad_escoba(velocidad_escoba_ms, limite_velocidad_kmh):\n",
        "\n",
        "  velocidad_escoba_kmh = velocidad_escoba_ms * 3.6\n",
        "\n",
        "  if velocidad_escoba_kmh > limite_velocidad_kmh:\n",
        "    diferencia = velocidad_escoba_kmh - limite_velocidad_kmh\n",
        "    return f\"¡La escoba excede el límite de velocidad en {diferencia:.2f} km/h!\"\n",
        "  else:\n",
        "    diferencia = limite_velocidad_kmh - velocidad_escoba_kmh\n",
        "    return f\"La escoba está dentro del límite de velocidad.  Quedan {diferencia:.2f} km/h de margen.\"\n",
        "\n",
        "velocidad_escoba = int(input(\"Ingrese la velocidad de la escoba en m/s: \"))\n",
        "limite_velocidad = int(input(\"Ingrese el límite de velocidad en km/h: \"))\n",
        "\n",
        "velocidad_escobaenkm = velocidad_escoba * 3.6\n",
        "print(\"la velocidad de la escoba en km/h es\",velocidad_escobaenkm)\n",
        "\n",
        "resultado = comparar_velocidad_escoba(velocidad_escoba, limite_velocidad)\n",
        "resultado\n",
        "\n",
        "\n"
      ]
    }
  ]
}